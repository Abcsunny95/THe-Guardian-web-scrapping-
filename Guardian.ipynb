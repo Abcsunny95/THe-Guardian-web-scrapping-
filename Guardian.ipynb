{
 "cells": [
  {
   "cell_type": "code",
   "execution_count": 4,
   "id": "9cc7ba4a",
   "metadata": {},
   "outputs": [],
   "source": [
    "#library\n",
    "from bs4 import BeautifulSoup\n",
    "import requests\n",
    "import aiohttp\n",
    "import asyncio\n",
    "import nest_asyncio\n",
    "nest_asyncio.apply()"
   ]
  },
  {
   "cell_type": "code",
   "execution_count": 5,
   "id": "1d7210a4",
   "metadata": {},
   "outputs": [],
   "source": [
    "root = 'https://www.theguardian.com/'\n",
    "url = f'{root}/international'\n",
    "result = requests.get(url)\n",
    "content = result.text\n",
    "soup = BeautifulSoup(content,'html.parser')"
   ]
  },
  {
   "cell_type": "code",
   "execution_count": 6,
   "id": "eda19892",
   "metadata": {},
   "outputs": [
    {
     "name": "stdout",
     "output_type": "stream",
     "text": [
      "['https://www.theguardian.com/business/2022/jul/26/eu-agrees-plan-to-reduce-gas-use-over-russia-supply-fears', 'https://www.theguardian.com/politics/2022/jul/26/tv-debate-between-truss-and-sunak-cancelled-after-presenter-faints', 'https://www.theguardian.com/football/live/2022/jul/26/england-v-sweden-womens-euro-2022-semi-final-live', 'https://www.theguardian.com/us-news/live/2022/jul/26/trump-washington-biden-senate-vote-marriage-equality-latest-politics-news', 'https://www.theguardian.com/environment/2022/jul/26/scientists-find-30-potential-new-species-at-bottom-of-ocean-using-robots', 'https://www.theguardian.com/environment/2022/jul/26/england-drought-people-urged-curb-water-use-reservoir-level-fall-hosepipe-ban', 'https://www.theguardian.com/world/2022/jul/26/california-oak-fire-slow-spread-of-explosive-blaze', 'https://www.theguardian.com/politics/2022/jul/26/british-wine-wholesaler-leave-uk-over-post-brexit-paperwork', 'https://www.theguardian.com/world/2022/jul/26/longstanding-adviser-to-viktor-orban-resigns-over-pure-nazi-speech', 'https://www.theguardian.com/world/2022/jul/26/german-iranian-man-facing-death-sentence-on-terror-charges-mounts-final-defence', 'https://www.theguardian.com/technology/2022/jul/26/instagram-changes-user-backlash-trying-to-be-tiktok', 'https://www.theguardian.com/world/2022/jul/26/we-are-safe-but-the-challenge-of-getting-set-up-in-britain-is-overwhelming-a-kherson-mothers-diary', 'https://www.theguardian.com/world/2022/jul/26/food-traders-remain-skeptical-of-deal-to-export-ukrainian-grain', 'https://www.theguardian.com/world/2022/jul/26/russia-closure-israel-migration-jewish-agency-ukraine', 'https://www.theguardian.com/world/2022/jul/26/british-pro-kremlin-video-blogger-graham-phillips-added-to-uk-government-russia-sanctions-list', 'https://www.theguardian.com/politics/2022/jul/26/how-to-really-win-the-tory-leadership-john-crace-rishi-liz-truss-conservatives', 'https://www.theguardian.com/world/2022/jul/26/we-are-not-afraid-anti-junta-groups-rail-against-myanmar-executions', 'https://www.theguardian.com/music/2022/jul/26/ralph-vaughan-williams-visionary-genius-lark-ascending', 'https://www.theguardian.com/world/2022/jul/26/french-dictionaries-new-words-larousse-le-robert', 'https://www.theguardian.com/world/2022/jul/26/yosemite-visitors-undeterred-california-forest-fires', 'https://www.theguardian.com/food/2022/jul/26/ice-cream-toppings-that-are-anything-but-vanilla', 'https://www.theguardian.com/news/2022/jul/26/what-do-you-give-the-billionaire-richard-branson-for-his-birthday-a-cruise-ship-full-of-lookalikes', 'https://www.theguardian.com/food/2022/jul/26/nigel-slater-midweek-recipe-bucatini-with-spinach-and-courgettes', 'https://www.theguardian.com/commentisfree/2022/jul/26/school-strikes-climate-protests-activists', 'https://www.theguardian.com/commentisfree/2022/jul/26/monkeypox-gay-communities-vaccines-health-messages', 'https://www.theguardian.com/commentisfree/2022/jul/26/failure-green-capitalism', 'https://www.theguardian.com/commentisfree/2022/jul/26/border-free-world-better-hostile-immigration-policies', 'https://www.theguardian.com/commentisfree/2022/jul/26/labour-cautious-public-ownership', 'https://www.theguardian.com/commentisfree/2022/jul/26/i-will-never-regret-the-time-i-spent-with-my-children-but-society-is-punishing-me-for-it-in-my-60s', 'https://www.theguardian.com/football/ng-interactive/2022/jul/26/david-squires-on-the-euro-2022-quarter-finals-and-the-soft-hooligans', 'https://www.theguardian.com/football/gallery/2022/jul/25/england-v-sweden-a-womens-euro-1984-mud-bath-in-pictures', 'https://www.theguardian.com/football/2022/jul/26/share-your-views-and-experiences-of-womens-euro-2022', 'https://www.theguardian.com/football/ng-interactive/2022/jul/08/womens-euro-2022-golden-boot-top-goalscorers-game-by-game', 'https://www.theguardian.com/football/ng-interactive/2022/jun/29/womens-euro-2022-your-complete-guide-to-all-368-players', 'https://www.theguardian.com/football/2022/jul/26/premier-league-wants-championship-to-house-loan-players-in-new-finance-deal', 'https://www.theguardian.com/sport/2022/jul/26/tears-of-joy-for-cecilie-uttrup-ludwig-after-tour-de-france-femmes-stage-three-win', 'https://www.theguardian.com/sport/2022/jul/26/commonwealth-games-2022-10-things-to-watch-out-for-in-birmingham', 'https://www.theguardian.com/football/2022/jul/26/premier-league-2022-23-preview-no-4-brentford', 'https://www.theguardian.com/sport/2022/jul/26/kyler-murray-will-reportedly-default-230m-contract-if-he-does-not-study-film', 'https://www.theguardian.com/sport/2022/jul/26/the-sydney-project-how-elite-athletics-traps-mclaughlin-but-also-sets-her-free', 'https://www.theguardian.com/sport/2022/jul/27/ten-to-watch-australian-medal-hopes-at-the-commonwealth-games', 'https://www.theguardian.com/sport/2022/jul/26/how-wimbledon-spotlight-is-helping-cameron-norrie-plan-for-us-open-tennis', 'https://www.theguardian.com/us-news/2022/jul/26/pacific-north-west-heatwave-portland-oregon', 'https://www.theguardian.com/world/2022/jul/26/melting-alps-theodul-glacier-switzerland-italy-border-shifts', 'https://www.theguardian.com/environment/ng-interactive/2022/jul/26/how-europe-has-been-hit-by-record-fire-damage-and-temperatures', 'https://www.theguardian.com/world/2022/jul/26/uk-cities-need-to-prepare-for-future-wildfires-say-fire-chiefs', 'https://www.theguardian.com/business/2022/jul/26/imf-slashes-global-growth-forecast-as-top-three-economies-stall', 'https://www.theguardian.com/world/2022/jul/26/at-least-15-killed-in-second-day-of-anti-un-violence-in-drc', 'https://www.theguardian.com/world/2022/jul/26/british-tourist-killed-helicopter-rotor-blade-greece-jack-fenton', 'https://www.theguardian.com/world/2022/jul/26/passengers-faking-need-for-wheelchair-skip-airport-queues-heathrow', 'https://www.theguardian.com/us-news/2022/jul/26/alex-jones-defamation-trial-sandy-hook-shooting', 'https://www.theguardian.com/science/2022/jul/26/russia-opt-out-international-space-station-2024-build-own-outpost', 'https://www.theguardian.com/technology/2022/jul/26/facebook-considering-ending-restrictions-on-covid-misinformation', 'https://www.theguardian.com/world/2022/jul/26/tunisia-president-referendum-result-new-phase-kais-saied', 'https://www.theguardian.com/uk-news/2022/jul/26/matthew-tregale-devon-cornwall-police-officer-court-accused-sexual-assault-attempted-rape-false-imprisonment', 'https://www.theguardian.com/us-news/2022/jul/26/uvalde-shooting-texas-robb-elementary-principal-suspended', 'https://www.theguardian.com/music/2022/jul/26/pulp-reforming-jarvis-cocker-nick-banks-britpop-sheffield', 'https://www.theguardian.com/music/2022/jul/26/ralph-vaughan-williams-visionary-genius-lark-ascending', 'https://www.theguardian.com/tv-and-radio/2022/jul/26/better-call-saul-recap-season-six-episode-10-buns-of-steal-its-a-gene-takavic-scamming-masterclass', 'https://www.theguardian.com/artanddesign/2022/jul/26/damien-hirst-to-burn-thousands-of-his-paintings-to-show-art-as-currency', 'https://www.theguardian.com/books/2022/jul/26/booker-prize-longlist-of-13-writers-aged-20-to-87-announced', 'https://www.theguardian.com/film/2022/jul/26/qin-yi-obituary', 'https://www.theguardian.com/travel/2022/jul/26/joe-dunthorne-lads-longing-and-leigh-on-sea-its-as-if-someone-flipped-a-switch-marked-summertime', 'https://www.theguardian.com/travel/2022/jul/26/my-car-free-break-in-cumbria-coast-lake-district-rail-walking', 'https://www.theguardian.com/commentisfree/2022/jul/26/pandemic-active-woman-fitness-brain-healthy-routine', 'https://www.theguardian.com/lifeandstyle/2022/jul/26/sex-with-partner-all-about-him-over-very-quickly', 'https://www.theguardian.com/food/2022/jul/25/thomasina-miers-recipe-for-breaded-haddock-bun-with-roast-chilli-aioli-and-watercress', 'https://www.theguardian.com/food/2022/jul/25/20-best-easy-mediterranean-recipes-pasta-sardines-chicken-lemon-fish-kebabs', 'https://www.theguardian.com/world/2022/jul/27/papua-new-guinea-election-violence-what-has-caused-it-and-what-can-be-done', 'https://www.theguardian.com/world/2022/jul/26/stop-brexit-man-steve-bray-on-lies-police-powers-and-free-speech', 'https://www.theguardian.com/society/2022/jul/26/without-find-and-treat-i-wouldnt-be-here-the-nhs-service-caring-for-londons-vulnerable', 'https://www.theguardian.com/global-development/2022/jul/26/sri-lankans-forced-to-choose-either-food-or-vital-drugs-acc', 'https://www.theguardian.com/environment/2022/jul/26/how-germany-pig-belt-got-too-big-lower-saxony', 'https://www.theguardian.com/environment/2022/jul/25/shark-encounters-long-island-new-york', 'https://www.theguardian.com/lifeandstyle/2022/jun/20/tell-us-do-you-know-any-centenarians-or-are-you-one', 'https://www.theguardian.com/world/2022/may/16/russians-tell-us-what-the-mood-is-like-in-your-country', 'https://www.theguardian.com/world/2022/jan/26/living-in-ukraine-how-have-you-been-affected-by-the-current-situation', 'https://www.theguardian.com/community/2015/sep/02/guardianwitness-send-us-a-story', 'https://www.theguardian.com/news/series/todayinfocus', 'https://www.theguardian.com/news/gallery/2022/jul/26/robocop-dog-and-looters-in-drc-tuesdays-best-photos', 'https://www.theguardian.com/environment/gallery/2022/jul/26/newly-discovered-deep-sea-species-in-pictures', 'https://www.theguardian.com/uk-news/gallery/2022/jul/26/cornwalls-working-class-history-in-pictures', 'https://www.theguardian.com/artanddesign/gallery/2022/jul/26/bike-transcontinental-cycle-race-tcr-in-pictures', 'https://www.theguardian.com/news/gallery/2022/jul/25/spinning-light-feather-suit-mondays-best-photos', 'https://www.theguardian.com/sport/gallery/2022/jul/25/world-athletics-championships-oregon-2022-in-pictures', 'https://www.theguardian.com/world/2022/jul/26/british-tourist-killed-helicopter-rotor-blade-greece-jack-fenton', 'https://www.theguardian.com/world/2022/jul/26/can-ukrainian-forces-recapture-kherson-from-russia', 'https://www.theguardian.com/world/live/2022/jul/26/russia-ukraine-war-live-news-odesa-struck-by-russian-missiles-again-regional-military-chief-says', 'https://www.theguardian.com/world/2022/jul/26/longstanding-adviser-to-viktor-orban-resigns-over-pure-nazi-speech', 'https://www.theguardian.com/world/2022/jul/26/passengers-faking-need-for-wheelchair-skip-airport-queues-heathrow', 'https://www.theguardian.com/world/2022/jul/26/stop-brexit-man-steve-bray-on-lies-police-powers-and-free-speech', 'https://www.theguardian.com/world/2022/jul/26/we-are-safe-but-the-challenge-of-getting-set-up-in-britain-is-overwhelming-a-kherson-mothers-diary', 'https://www.theguardian.com/world/2022/jul/26/germany-worst-in-europe-for-reliance-on-russian-gas', 'https://www.theguardian.com/world/2022/jul/26/russia-closure-israel-migration-jewish-agency-ukraine', 'https://www.theguardian.com/world/2022/jul/26/british-pro-kremlin-video-blogger-graham-phillips-added-to-uk-government-russia-sanctions-list']\n"
     ]
    }
   ],
   "source": [
    "news_link =[]\n",
    "for name in soup.find_all('a',href=True,class_= 'u-faux-block-link__overlay js-headline-text'):\n",
    "    news_link.append(name['href'])\n",
    "\n",
    "print(news_link)\n"
   ]
  },
  {
   "cell_type": "code",
   "execution_count": 13,
   "id": "59761fa3",
   "metadata": {},
   "outputs": [],
   "source": [
    "def get_page(url):\n",
    "    root = 'https://www.theguardian.com/'\n",
    "    url = f'{root}/international'\n",
    "    response = requests.get(url)\n",
    "    soup = BeautifulSoup(response.content, 'lxml')\n",
    "    return soup"
   ]
  },
  {
   "cell_type": "code",
   "execution_count": 14,
   "id": "a91d09db",
   "metadata": {},
   "outputs": [
    {
     "ename": "AttributeError",
     "evalue": "'NoneType' object has no attribute 'find'",
     "output_type": "error",
     "traceback": [
      "\u001b[1;31m---------------------------------------------------------------------------\u001b[0m",
      "\u001b[1;31mAttributeError\u001b[0m                            Traceback (most recent call last)",
      "\u001b[1;32m~\\AppData\\Local\\Temp/ipykernel_11456/2880442295.py\u001b[0m in \u001b[0;36m<module>\u001b[1;34m\u001b[0m\n\u001b[0;32m      7\u001b[0m     \u001b[0mtitle\u001b[0m \u001b[1;33m=\u001b[0m \u001b[1;33m[\u001b[0m\u001b[1;33m]\u001b[0m\u001b[1;33m\u001b[0m\u001b[1;33m\u001b[0m\u001b[0m\n\u001b[0;32m      8\u001b[0m     \u001b[0mbox\u001b[0m \u001b[1;33m=\u001b[0m\u001b[0msoup\u001b[0m\u001b[1;33m.\u001b[0m\u001b[0mfind\u001b[0m\u001b[1;33m(\u001b[0m\u001b[1;34m'a'\u001b[0m\u001b[1;33m,\u001b[0m\u001b[0mclass_\u001b[0m\u001b[1;33m=\u001b[0m\u001b[1;34m'content__label__link dcr-yx39j8'\u001b[0m\u001b[1;33m)\u001b[0m\u001b[1;33m\u001b[0m\u001b[1;33m\u001b[0m\u001b[0m\n\u001b[1;32m----> 9\u001b[1;33m     \u001b[0mtitle\u001b[0m \u001b[1;33m=\u001b[0m \u001b[0mbox\u001b[0m\u001b[1;33m.\u001b[0m\u001b[0mfind\u001b[0m\u001b[1;33m(\u001b[0m\u001b[1;34m'span'\u001b[0m\u001b[1;33m)\u001b[0m\u001b[1;33m.\u001b[0m\u001b[0mtext\u001b[0m\u001b[1;33m.\u001b[0m\u001b[0mstrip\u001b[0m\u001b[1;33m(\u001b[0m\u001b[1;33m)\u001b[0m\u001b[1;33m\u001b[0m\u001b[1;33m\u001b[0m\u001b[0m\n\u001b[0m",
      "\u001b[1;31mAttributeError\u001b[0m: 'NoneType' object has no attribute 'find'"
     ]
    }
   ],
   "source": [
    "for name in news_link:\n",
    "    url = f'{root}/{name}'\n",
    "    soup = get_page(url)\n",
    "    #title\n",
    "    title = []\n",
    "    box =soup.find('a',class_='content__label__link dcr-yx39j8')\n",
    "    title = box.find('span').text.strip()"
   ]
  },
  {
   "cell_type": "code",
   "execution_count": null,
   "id": "049ab03c",
   "metadata": {},
   "outputs": [],
   "source": []
  },
  {
   "cell_type": "code",
   "execution_count": null,
   "id": "9a73a9e6",
   "metadata": {},
   "outputs": [],
   "source": []
  },
  {
   "cell_type": "code",
   "execution_count": null,
   "id": "13f9dfcd",
   "metadata": {},
   "outputs": [],
   "source": []
  },
  {
   "cell_type": "code",
   "execution_count": null,
   "id": "2e136554",
   "metadata": {},
   "outputs": [],
   "source": []
  },
  {
   "cell_type": "code",
   "execution_count": null,
   "id": "d5f367df",
   "metadata": {},
   "outputs": [],
   "source": []
  },
  {
   "cell_type": "code",
   "execution_count": null,
   "id": "576c642a",
   "metadata": {},
   "outputs": [],
   "source": []
  },
  {
   "cell_type": "code",
   "execution_count": 4,
   "id": "15713e7c",
   "metadata": {},
   "outputs": [
    {
     "ename": "NameError",
     "evalue": "name 'function_name' is not defined",
     "output_type": "error",
     "traceback": [
      "\u001b[1;31m---------------------------------------------------------------------------\u001b[0m",
      "\u001b[1;31mNameError\u001b[0m                                 Traceback (most recent call last)",
      "\u001b[1;32m~\\AppData\\Local\\Temp/ipykernel_11456/4095817887.py\u001b[0m in \u001b[0;36m<module>\u001b[1;34m\u001b[0m\n\u001b[0;32m      6\u001b[0m             \u001b[0msome_cleaned_data\u001b[0m \u001b[1;33m=\u001b[0m \u001b[1;32mawait\u001b[0m \u001b[0mfunction_name\u001b[0m\u001b[1;33m(\u001b[0m\u001b[0mtext\u001b[0m\u001b[1;33m)\u001b[0m\u001b[1;33m\u001b[0m\u001b[1;33m\u001b[0m\u001b[0m\n\u001b[0;32m      7\u001b[0m             \u001b[0mprint\u001b[0m\u001b[1;33m(\u001b[0m\u001b[0mtext\u001b[0m\u001b[1;33m)\u001b[0m\u001b[1;33m\u001b[0m\u001b[1;33m\u001b[0m\u001b[0m\n\u001b[1;32m----> 8\u001b[1;33m \u001b[0masyncio\u001b[0m\u001b[1;33m.\u001b[0m\u001b[0mrun\u001b[0m\u001b[1;33m(\u001b[0m\u001b[0mmain\u001b[0m\u001b[1;33m(\u001b[0m\u001b[1;33m)\u001b[0m\u001b[1;33m)\u001b[0m\u001b[1;33m\u001b[0m\u001b[1;33m\u001b[0m\u001b[0m\n\u001b[0m",
      "\u001b[1;32m~\\anaconda3\\lib\\site-packages\\nest_asyncio.py\u001b[0m in \u001b[0;36mrun\u001b[1;34m(main, debug)\u001b[0m\n\u001b[0;32m     33\u001b[0m         \u001b[0mtask\u001b[0m \u001b[1;33m=\u001b[0m \u001b[0masyncio\u001b[0m\u001b[1;33m.\u001b[0m\u001b[0mensure_future\u001b[0m\u001b[1;33m(\u001b[0m\u001b[0mmain\u001b[0m\u001b[1;33m)\u001b[0m\u001b[1;33m\u001b[0m\u001b[1;33m\u001b[0m\u001b[0m\n\u001b[0;32m     34\u001b[0m         \u001b[1;32mtry\u001b[0m\u001b[1;33m:\u001b[0m\u001b[1;33m\u001b[0m\u001b[1;33m\u001b[0m\u001b[0m\n\u001b[1;32m---> 35\u001b[1;33m             \u001b[1;32mreturn\u001b[0m \u001b[0mloop\u001b[0m\u001b[1;33m.\u001b[0m\u001b[0mrun_until_complete\u001b[0m\u001b[1;33m(\u001b[0m\u001b[0mtask\u001b[0m\u001b[1;33m)\u001b[0m\u001b[1;33m\u001b[0m\u001b[1;33m\u001b[0m\u001b[0m\n\u001b[0m\u001b[0;32m     36\u001b[0m         \u001b[1;32mfinally\u001b[0m\u001b[1;33m:\u001b[0m\u001b[1;33m\u001b[0m\u001b[1;33m\u001b[0m\u001b[0m\n\u001b[0;32m     37\u001b[0m             \u001b[1;32mif\u001b[0m \u001b[1;32mnot\u001b[0m \u001b[0mtask\u001b[0m\u001b[1;33m.\u001b[0m\u001b[0mdone\u001b[0m\u001b[1;33m(\u001b[0m\u001b[1;33m)\u001b[0m\u001b[1;33m:\u001b[0m\u001b[1;33m\u001b[0m\u001b[1;33m\u001b[0m\u001b[0m\n",
      "\u001b[1;32m~\\anaconda3\\lib\\site-packages\\nest_asyncio.py\u001b[0m in \u001b[0;36mrun_until_complete\u001b[1;34m(self, future)\u001b[0m\n\u001b[0;32m     87\u001b[0m                 raise RuntimeError(\n\u001b[0;32m     88\u001b[0m                     'Event loop stopped before Future completed.')\n\u001b[1;32m---> 89\u001b[1;33m             \u001b[1;32mreturn\u001b[0m \u001b[0mf\u001b[0m\u001b[1;33m.\u001b[0m\u001b[0mresult\u001b[0m\u001b[1;33m(\u001b[0m\u001b[1;33m)\u001b[0m\u001b[1;33m\u001b[0m\u001b[1;33m\u001b[0m\u001b[0m\n\u001b[0m\u001b[0;32m     90\u001b[0m \u001b[1;33m\u001b[0m\u001b[0m\n\u001b[0;32m     91\u001b[0m     \u001b[1;32mdef\u001b[0m \u001b[0m_run_once\u001b[0m\u001b[1;33m(\u001b[0m\u001b[0mself\u001b[0m\u001b[1;33m)\u001b[0m\u001b[1;33m:\u001b[0m\u001b[1;33m\u001b[0m\u001b[1;33m\u001b[0m\u001b[0m\n",
      "\u001b[1;32m~\\anaconda3\\lib\\asyncio\\futures.py\u001b[0m in \u001b[0;36mresult\u001b[1;34m(self)\u001b[0m\n\u001b[0;32m    176\u001b[0m         \u001b[0mself\u001b[0m\u001b[1;33m.\u001b[0m\u001b[0m__log_traceback\u001b[0m \u001b[1;33m=\u001b[0m \u001b[1;32mFalse\u001b[0m\u001b[1;33m\u001b[0m\u001b[1;33m\u001b[0m\u001b[0m\n\u001b[0;32m    177\u001b[0m         \u001b[1;32mif\u001b[0m \u001b[0mself\u001b[0m\u001b[1;33m.\u001b[0m\u001b[0m_exception\u001b[0m \u001b[1;32mis\u001b[0m \u001b[1;32mnot\u001b[0m \u001b[1;32mNone\u001b[0m\u001b[1;33m:\u001b[0m\u001b[1;33m\u001b[0m\u001b[1;33m\u001b[0m\u001b[0m\n\u001b[1;32m--> 178\u001b[1;33m             \u001b[1;32mraise\u001b[0m \u001b[0mself\u001b[0m\u001b[1;33m.\u001b[0m\u001b[0m_exception\u001b[0m\u001b[1;33m\u001b[0m\u001b[1;33m\u001b[0m\u001b[0m\n\u001b[0m\u001b[0;32m    179\u001b[0m         \u001b[1;32mreturn\u001b[0m \u001b[0mself\u001b[0m\u001b[1;33m.\u001b[0m\u001b[0m_result\u001b[0m\u001b[1;33m\u001b[0m\u001b[1;33m\u001b[0m\u001b[0m\n\u001b[0;32m    180\u001b[0m \u001b[1;33m\u001b[0m\u001b[0m\n",
      "\u001b[1;32m~\\anaconda3\\lib\\asyncio\\tasks.py\u001b[0m in \u001b[0;36m__step\u001b[1;34m(***failed resolving arguments***)\u001b[0m\n\u001b[0;32m    278\u001b[0m                 \u001b[1;31m# We use the `send` method directly, because coroutines\u001b[0m\u001b[1;33m\u001b[0m\u001b[1;33m\u001b[0m\u001b[1;33m\u001b[0m\u001b[0m\n\u001b[0;32m    279\u001b[0m                 \u001b[1;31m# don't have `__iter__` and `__next__` methods.\u001b[0m\u001b[1;33m\u001b[0m\u001b[1;33m\u001b[0m\u001b[1;33m\u001b[0m\u001b[0m\n\u001b[1;32m--> 280\u001b[1;33m                 \u001b[0mresult\u001b[0m \u001b[1;33m=\u001b[0m \u001b[0mcoro\u001b[0m\u001b[1;33m.\u001b[0m\u001b[0msend\u001b[0m\u001b[1;33m(\u001b[0m\u001b[1;32mNone\u001b[0m\u001b[1;33m)\u001b[0m\u001b[1;33m\u001b[0m\u001b[1;33m\u001b[0m\u001b[0m\n\u001b[0m\u001b[0;32m    281\u001b[0m             \u001b[1;32melse\u001b[0m\u001b[1;33m:\u001b[0m\u001b[1;33m\u001b[0m\u001b[1;33m\u001b[0m\u001b[0m\n\u001b[0;32m    282\u001b[0m                 \u001b[0mresult\u001b[0m \u001b[1;33m=\u001b[0m \u001b[0mcoro\u001b[0m\u001b[1;33m.\u001b[0m\u001b[0mthrow\u001b[0m\u001b[1;33m(\u001b[0m\u001b[0mexc\u001b[0m\u001b[1;33m)\u001b[0m\u001b[1;33m\u001b[0m\u001b[1;33m\u001b[0m\u001b[0m\n",
      "\u001b[1;32m~\\AppData\\Local\\Temp/ipykernel_11456/4095817887.py\u001b[0m in \u001b[0;36mmain\u001b[1;34m()\u001b[0m\n\u001b[0;32m      4\u001b[0m         \u001b[1;32masync\u001b[0m \u001b[1;32mwith\u001b[0m \u001b[0msession\u001b[0m\u001b[1;33m.\u001b[0m\u001b[0mget\u001b[0m\u001b[1;33m(\u001b[0m\u001b[1;34m'https://www.theguardian.com/international'\u001b[0m\u001b[1;33m)\u001b[0m \u001b[1;32mas\u001b[0m \u001b[0mresponse\u001b[0m\u001b[1;33m:\u001b[0m\u001b[1;33m\u001b[0m\u001b[1;33m\u001b[0m\u001b[0m\n\u001b[0;32m      5\u001b[0m             \u001b[0mtext\u001b[0m \u001b[1;33m=\u001b[0m \u001b[1;32mawait\u001b[0m \u001b[0mresponse\u001b[0m\u001b[1;33m.\u001b[0m\u001b[0mtext\u001b[0m\u001b[1;33m(\u001b[0m\u001b[1;33m)\u001b[0m\u001b[1;33m\u001b[0m\u001b[1;33m\u001b[0m\u001b[0m\n\u001b[1;32m----> 6\u001b[1;33m             \u001b[0msome_cleaned_data\u001b[0m \u001b[1;33m=\u001b[0m \u001b[1;32mawait\u001b[0m \u001b[0mfunction_name\u001b[0m\u001b[1;33m(\u001b[0m\u001b[0mtext\u001b[0m\u001b[1;33m)\u001b[0m\u001b[1;33m\u001b[0m\u001b[1;33m\u001b[0m\u001b[0m\n\u001b[0m\u001b[0;32m      7\u001b[0m             \u001b[0mprint\u001b[0m\u001b[1;33m(\u001b[0m\u001b[0mtext\u001b[0m\u001b[1;33m)\u001b[0m\u001b[1;33m\u001b[0m\u001b[1;33m\u001b[0m\u001b[0m\n\u001b[0;32m      8\u001b[0m \u001b[0masyncio\u001b[0m\u001b[1;33m.\u001b[0m\u001b[0mrun\u001b[0m\u001b[1;33m(\u001b[0m\u001b[0mmain\u001b[0m\u001b[1;33m(\u001b[0m\u001b[1;33m)\u001b[0m\u001b[1;33m)\u001b[0m\u001b[1;33m\u001b[0m\u001b[1;33m\u001b[0m\u001b[0m\n",
      "\u001b[1;31mNameError\u001b[0m: name 'function_name' is not defined"
     ]
    }
   ],
   "source": [
    "async def main():\n",
    "\n",
    "    async with aiohttp.ClientSession() as session:\n",
    "        async with session.get('https://www.theguardian.com/international') as response:\n",
    "            text = await response.text()\n",
    "            some_cleaned_data = await function_name(text)\n",
    "            print(text)\n",
    "asyncio.run(main())"
   ]
  },
  {
   "cell_type": "code",
   "execution_count": 6,
   "id": "98ea44ef",
   "metadata": {},
   "outputs": [
    {
     "data": {
      "text/plain": [
       "<coroutine object main at 0x0000011B48D3DB40>"
      ]
     },
     "execution_count": 6,
     "metadata": {},
     "output_type": "execute_result"
    }
   ],
   "source": [
    "main()"
   ]
  },
  {
   "cell_type": "code",
   "execution_count": null,
   "id": "0b4a2551",
   "metadata": {},
   "outputs": [],
   "source": [
    "task = []\n",
    "\n",
    "for url in urls:"
   ]
  }
 ],
 "metadata": {
  "kernelspec": {
   "display_name": "Python 3 (ipykernel)",
   "language": "python",
   "name": "python3"
  },
  "language_info": {
   "codemirror_mode": {
    "name": "ipython",
    "version": 3
   },
   "file_extension": ".py",
   "mimetype": "text/x-python",
   "name": "python",
   "nbconvert_exporter": "python",
   "pygments_lexer": "ipython3",
   "version": "3.8.8"
  }
 },
 "nbformat": 4,
 "nbformat_minor": 5
}
